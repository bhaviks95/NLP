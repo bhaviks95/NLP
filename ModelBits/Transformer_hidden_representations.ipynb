{
 "cells": [
  {
   "cell_type": "code",
   "execution_count": 25,
   "metadata": {},
   "outputs": [],
   "source": [
    "import torch\n",
    "import torch.nn as nn\n",
    "from transformers import BertModel, BertTokenizer\n",
    "\n",
    "class BertHidden(nn.Module):\n",
    "    def __init__(self):\n",
    "        super(BertHidden, self).__init__()\n",
    "        \n",
    "        # initialize the BERT model and tokenizer\n",
    "        self.bert_model = BertModel.from_pretrained('bert-base-uncased')\n",
    "        self.tokenizer = BertTokenizer.from_pretrained('bert-base-uncased')\n",
    "        \n",
    "        # add a linear layer to predict the output class\n",
    "        # self.linear = nn.Linear(self.bert_model.config.hidden_size, num_classes)\n",
    "        \n",
    "    def forward(self, inputs):\n",
    "        # tokenize each word in the input\n",
    "        res= []\n",
    "\n",
    "        for input in inputs:\n",
    "            tokenized_inputs = [self.tokenizer.encode(inp, add_special_tokens=True) for inp in input]\n",
    "            \n",
    "            # pad the tokenized inputs to the same length\n",
    "            max_len = max([len(inp) for inp in tokenized_inputs])\n",
    "            padded_inputs = torch.zeros(len(input), max_len).long()\n",
    "            for i, inp in enumerate(tokenized_inputs):\n",
    "                padded_inputs[i, :len(inp)] = torch.tensor(inp)\n",
    "            \n",
    "            # pass the padded inputs through the BERT model\n",
    "            outputs = self.bert_model(padded_inputs)\n",
    "            \n",
    "            # get the output of the [CLS] token\n",
    "            pooled_output = outputs[1]\n",
    "            res.append(pooled_output)\n",
    "\n",
    "        output = torch.stack(res,dim=0)\n",
    "\n",
    "        return output\n",
    "\n",
    "        # pass the pooled output through the linear layer to get the predicted class\n",
    "        logits = self.linear(pooled_output)\n",
    "        \n",
    "        return logits"
   ]
  },
  {
   "cell_type": "code",
   "execution_count": 26,
   "metadata": {},
   "outputs": [
    {
     "name": "stderr",
     "output_type": "stream",
     "text": [
      "Some weights of the model checkpoint at bert-base-uncased were not used when initializing BertModel: ['cls.predictions.transform.LayerNorm.weight', 'cls.predictions.decoder.weight', 'cls.seq_relationship.weight', 'cls.predictions.transform.dense.bias', 'cls.predictions.transform.LayerNorm.bias', 'cls.predictions.transform.dense.weight', 'cls.seq_relationship.bias', 'cls.predictions.bias']\n",
      "- This IS expected if you are initializing BertModel from the checkpoint of a model trained on another task or with another architecture (e.g. initializing a BertForSequenceClassification model from a BertForPreTraining model).\n",
      "- This IS NOT expected if you are initializing BertModel from the checkpoint of a model that you expect to be exactly identical (initializing a BertForSequenceClassification model from a BertForSequenceClassification model).\n"
     ]
    },
    {
     "data": {
      "text/plain": [
       "tensor([[[-0.8594, -0.1659,  0.4316,  ..., -0.0480, -0.5564,  0.8697],\n",
       "         [-0.7444, -0.1215,  0.7430,  ...,  0.4240, -0.5016,  0.7806],\n",
       "         [-0.8532, -0.2060,  0.2519,  ..., -0.3518, -0.5712,  0.8669]],\n",
       "\n",
       "        [[-0.8755, -0.1946,  0.2685,  ..., -0.1115, -0.5913,  0.8909],\n",
       "         [-0.9099, -0.2416,  0.1094,  ..., -0.3110, -0.6026,  0.9285],\n",
       "         [-0.7988, -0.1377,  0.6096,  ...,  0.1994, -0.5240,  0.8054]]],\n",
       "       grad_fn=<StackBackward0>)"
      ]
     },
     "execution_count": 26,
     "metadata": {},
     "output_type": "execute_result"
    }
   ],
   "source": [
    "bert = BertHidden()\n",
    "\n",
    "# generate a list of input strings\n",
    "inputs = [[\"This is the presentence input\",\"This is the claim input\", \"This is the postsentence input\"],[\"This is the zero input\",\"This is the claim input\", \"This is the second input\"]]\n",
    "labels = [0,1,0]\n",
    "\n",
    "# pass the inputs through the BertTokenized model\n",
    "hidden_layer = bert(inputs)\n",
    "\n",
    "hidden_layer"
   ]
  },
  {
   "cell_type": "code",
   "execution_count": 13,
   "metadata": {},
   "outputs": [
    {
     "data": {
      "text/plain": [
       "768"
      ]
     },
     "execution_count": 13,
     "metadata": {},
     "output_type": "execute_result"
    }
   ],
   "source": []
  }
 ],
 "metadata": {
  "kernelspec": {
   "display_name": "COMP0197-pt",
   "language": "python",
   "name": "python3"
  },
  "language_info": {
   "codemirror_mode": {
    "name": "ipython",
    "version": 3
   },
   "file_extension": ".py",
   "mimetype": "text/x-python",
   "name": "python",
   "nbconvert_exporter": "python",
   "pygments_lexer": "ipython3",
   "version": "3.10.8"
  },
  "orig_nbformat": 4
 },
 "nbformat": 4,
 "nbformat_minor": 2
}
