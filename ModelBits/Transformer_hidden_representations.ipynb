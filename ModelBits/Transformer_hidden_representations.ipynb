{
 "cells": [
  {
   "cell_type": "code",
   "execution_count": 47,
   "metadata": {},
   "outputs": [],
   "source": [
    "import torch\n",
    "import torch.nn as nn\n",
    "from transformers import BertModel, BertTokenizer, AutoTokenizer\n",
    "\n",
    "\n",
    "class BertHidden(nn.Module):\n",
    "    def __init__(self):\n",
    "        super(BertHidden, self).__init__()\n",
    "        \n",
    "        # initialize the BERT model and tokenizer\n",
    "        self.bert_model = BertModel.from_pretrained('bert-base-cased')\n",
    "        self.tokenizer = BertTokenizer.from_pretrained('bert-base-cased')\n",
    "        self.autotokenizer = AutoTokenizer.from_pretrained('bert-base-cased')\n",
    "        \n",
    "        # add a linear layer to predict the output class\n",
    "        # self.linear = nn.Linear(self.bert_model.config.hidden_size, num_classes)\n",
    "        \n",
    "    def forward(self, inputs):\n",
    "        # tokenize each word in the input\n",
    "        res= []\n",
    "\n",
    "        for input in inputs:\n",
    "            tokenized_inputs = [self.tokenizer.encode(inp, add_special_tokens=True) for inp in input]\n",
    "            autotokenized = self.autotokenizer(input, padding='longest', truncation=True)['input_ids']\n",
    "            print(autotokenized)\n",
    "            \n",
    "            # # pad the tokenized inputs to the same length\n",
    "            max_len = max([len(inp) for inp in tokenized_inputs])\n",
    "            padded_inputs = torch.zeros(len(input), max_len).long()\n",
    "            for i, inp in enumerate(tokenized_inputs):\n",
    "                padded_inputs[i, :len(inp)] = torch.tensor(inp)\n",
    "            \n",
    "            # pass the padded inputs through the BERT model\n",
    "            outputs = self.bert_model(padded_inputs)\n",
    "            \n",
    "            # get the output of the [CLS] token\n",
    "            pooled_output = outputs[1]\n",
    "            res.append(pooled_output)\n",
    "\n",
    "        return res\n",
    "\n",
    "        # pass the pooled output through the linear layer to get the predicted class\n",
    "        logits = self.linear(pooled_output)\n",
    "        \n",
    "        return logits"
   ]
  },
  {
   "cell_type": "code",
   "execution_count": 48,
   "metadata": {},
   "outputs": [
    {
     "name": "stderr",
     "output_type": "stream",
     "text": [
      "Some weights of the model checkpoint at bert-base-cased were not used when initializing BertModel: ['cls.predictions.bias', 'cls.predictions.transform.LayerNorm.bias', 'cls.seq_relationship.weight', 'cls.predictions.transform.LayerNorm.weight', 'cls.seq_relationship.bias', 'cls.predictions.transform.dense.bias', 'cls.predictions.decoder.weight', 'cls.predictions.transform.dense.weight']\n",
      "- This IS expected if you are initializing BertModel from the checkpoint of a model trained on another task or with another architecture (e.g. initializing a BertForSequenceClassification model from a BertForPreTraining model).\n",
      "- This IS NOT expected if you are initializing BertModel from the checkpoint of a model that you expect to be exactly identical (initializing a BertForSequenceClassification model from a BertForSequenceClassification model).\n"
     ]
    },
    {
     "name": "stdout",
     "output_type": "stream",
     "text": [
      "[[101, 1188, 1110, 1103, 1675, 7008, 7758, 102, 0], [101, 1188, 1110, 1103, 3548, 7758, 102, 0, 0], [101, 1188, 1110, 1103, 8345, 23771, 3633, 7758, 102]]\n",
      "[[101, 1188, 1110, 1103, 6756, 7758, 102], [101, 1188, 1110, 1103, 3548, 7758, 102], [101, 1188, 1110, 1103, 1248, 7758, 102]]\n",
      "tensor([[-0.6550,  0.4765,  0.9999,  ...,  1.0000, -0.6728,  0.9948],\n",
      "        [-0.6672,  0.4955,  0.9999,  ...,  1.0000, -0.6377,  0.9893],\n",
      "        [-0.6837,  0.4373,  0.9999,  ...,  1.0000, -0.7870,  0.9848]],\n",
      "       grad_fn=<TanhBackward0>)\n"
     ]
    }
   ],
   "source": [
    "bert = BertHidden()\n",
    "\n",
    "# generate a list of input strings\n",
    "inputs = [[\"This is the presentence input\",\"This is the claim input\", \"This is the postsentence input\"],[\"This is the zero input\",\"This is the claim input\", \"This is the second input\"]]\n",
    "labels = [0,1,0]\n",
    "\n",
    "# pass the inputs through the BertTokenized model\n",
    "hidden_layer = bert(inputs)\n",
    "\n",
    "print(hidden_layer[0])"
   ]
  },
  {
   "cell_type": "code",
   "execution_count": null,
   "metadata": {},
   "outputs": [],
   "source": []
  }
 ],
 "metadata": {
  "kernelspec": {
   "display_name": "COMP0197-pt",
   "language": "python",
   "name": "python3"
  },
  "language_info": {
   "codemirror_mode": {
    "name": "ipython",
    "version": 3
   },
   "file_extension": ".py",
   "mimetype": "text/x-python",
   "name": "python",
   "nbconvert_exporter": "python",
   "pygments_lexer": "ipython3",
   "version": "3.10.9"
  },
  "orig_nbformat": 4
 },
 "nbformat": 4,
 "nbformat_minor": 2
}
