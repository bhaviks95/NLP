{
 "cells": [
  {
   "cell_type": "code",
   "execution_count": 2,
   "metadata": {},
   "outputs": [],
   "source": [
    "import pandas as pd\n"
   ]
  },
  {
   "cell_type": "code",
   "execution_count": 25,
   "metadata": {},
   "outputs": [
    {
     "name": "stderr",
     "output_type": "stream",
     "text": [
      "C:\\Users\\mike1\\AppData\\Local\\Temp\\ipykernel_19180\\3670880383.py:7: SettingWithCopyWarning: \n",
      "A value is trying to be set on a copy of a slice from a DataFrame.\n",
      "Try using .loc[row_indexer,col_indexer] = value instead\n",
      "\n",
      "See the caveats in the documentation: https://pandas.pydata.org/pandas-docs/stable/user_guide/indexing.html#returning-a-view-versus-a-copy\n",
      "  df_without_label['Verdict'] = 7\n"
     ]
    }
   ],
   "source": [
    "df_groundtruth = pd.read_csv('../ClaimBuster_Datasets/datasets/groundtruth.csv')\n",
    "df_all_sentences = pd.read_csv('../ClaimBuster_Datasets/datasets/all_sentences.csv')\n",
    "df_crowdsourced = pd.read_csv('../ClaimBuster_Datasets/datasets/crowdsourced.csv')\n",
    "df_crwd_grnd = pd.concat([df_groundtruth,df_crowdsourced],axis=0)\n",
    "sentence_id_with_v = df_crwd_grnd['Sentence_id'].values\n",
    "df_without_label = df_all_sentences[~((df_all_sentences['Speaker'] == 'Information') | (df_all_sentences['Speaker_title'].isna()) | (df_all_sentences['Sentence_id'].isin(sentence_id_with_v))) ]\n",
    "df_without_label['Verdict'] = 7 #all non labels have 7 as verdict\n",
    "df_full = pd.concat([df_crwd_grnd,df_without_label],axis=0)\n",
    "df_full = df_full.sort_values('Sentence_id')\n",
    "df_full.reset_index(drop=True,inplace=True)\n",
    "\n",
    "# df_crwd_grnd.sort_values('Sentence_id').head()\n"
   ]
  },
  {
   "cell_type": "code",
   "execution_count": 26,
   "metadata": {},
   "outputs": [],
   "source": [
    "def generate_word_dataset(df,presentence = 1,postsentence = 1):\n",
    "    dataset = []\n",
    "    label = []\n",
    "    for index,row in df.iterrows():\n",
    "        if index == 0 or index == len(df)-1:\n",
    "            continue\n",
    "        past = df.iloc[index-1]['Text']\n",
    "        curr = row['Text']\n",
    "        future = df.iloc[index+1]['Text']    \n",
    "        if row['File_id'] != df.iloc[index-1]['File_id']:\n",
    "            past = \"EMPTY\"\n",
    "        if row['File_id'] != df.iloc[index+1]['File_id']:\n",
    "            future = \"EMPTY\"\n",
    "        dataset.append([past,curr,future])\n",
    "        label.append(row['Verdict'])\n",
    "    \n",
    "    return dataset,label\n",
    "\n",
    "data_text, labels = generate_word_dataset(df_full)"
   ]
  },
  {
   "cell_type": "code",
   "execution_count": 27,
   "metadata": {},
   "outputs": [
    {
     "data": {
      "text/plain": [
       "([\"I think we've seen a deterioration of values.\",\n",
       "  'I think for a while as a nation we condoned those things we should have condemned.',\n",
       "  \"For a while, as I recall, it even seems to me that there was talk of legalizing or decriminalizing marijuana and other drugs, and I think that's all wrong.\"],\n",
       " ['I think for a while as a nation we condoned those things we should have condemned.',\n",
       "  \"For a while, as I recall, it even seems to me that there was talk of legalizing or decriminalizing marijuana and other drugs, and I think that's all wrong.\",\n",
       "  \"So we've seen a deterioration in values, and one of the things that I think we should do about it in terms of cause is to instill values into the young people in our schools.\"])"
      ]
     },
     "execution_count": 27,
     "metadata": {},
     "output_type": "execute_result"
    }
   ],
   "source": [
    "data_text[0],data_text[1] #can see each training sample has one past sentence curr sentence and one future sentence"
   ]
  }
 ],
 "metadata": {
  "kernelspec": {
   "display_name": "COMP0197-pt",
   "language": "python",
   "name": "python3"
  },
  "language_info": {
   "codemirror_mode": {
    "name": "ipython",
    "version": 3
   },
   "file_extension": ".py",
   "mimetype": "text/x-python",
   "name": "python",
   "nbconvert_exporter": "python",
   "pygments_lexer": "ipython3",
   "version": "3.10.8"
  },
  "orig_nbformat": 4
 },
 "nbformat": 4,
 "nbformat_minor": 2
}
