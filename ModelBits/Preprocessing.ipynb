{
 "cells": [
  {
   "cell_type": "code",
   "execution_count": 10,
   "metadata": {},
   "outputs": [],
   "source": [
    "import pandas as pd\n",
    "import numpy as np\n",
    "from torch.utils.data import Dataset"
   ]
  },
  {
   "cell_type": "code",
   "execution_count": 2,
   "metadata": {},
   "outputs": [
    {
     "name": "stderr",
     "output_type": "stream",
     "text": [
      "/var/folders/x7/tvh019v93cx4qhm55ttc6yp80000gn/T/ipykernel_80979/2084367091.py:7: SettingWithCopyWarning: \n",
      "A value is trying to be set on a copy of a slice from a DataFrame.\n",
      "Try using .loc[row_indexer,col_indexer] = value instead\n",
      "\n",
      "See the caveats in the documentation: https://pandas.pydata.org/pandas-docs/stable/user_guide/indexing.html#returning-a-view-versus-a-copy\n",
      "  df_without_label['Verdict'] = 7 #all non labels have 7 as verdict\n"
     ]
    }
   ],
   "source": [
    "df_groundtruth = pd.read_csv('../ClaimBuster_Datasets/datasets/groundtruth.csv')\n",
    "df_all_sentences = pd.read_csv('../ClaimBuster_Datasets/datasets/all_sentences.csv')\n",
    "df_crowdsourced = pd.read_csv('../ClaimBuster_Datasets/datasets/crowdsourced.csv')\n",
    "df_crwd_grnd = pd.concat([df_groundtruth,df_crowdsourced],axis=0)\n",
    "sentence_id_with_v = df_crwd_grnd['Sentence_id'].values\n",
    "df_without_label = df_all_sentences[~((df_all_sentences['Speaker'] == 'Information') | (df_all_sentences['Speaker_title'].isna()) | (df_all_sentences['Sentence_id'].isin(sentence_id_with_v))) ]\n",
    "df_without_label['Verdict'] = 7 #all non labels have 7 as verdict\n",
    "df_full = pd.concat([df_crwd_grnd,df_without_label],axis=0)\n",
    "df_full = df_full.sort_values('Sentence_id')\n",
    "df_full.reset_index(drop=True,inplace=True)\n",
    "\n",
    "# df_crwd_grnd.sort_values('Sentence_id').head()\n"
   ]
  },
  {
   "cell_type": "code",
   "execution_count": 3,
   "metadata": {},
   "outputs": [],
   "source": [
    "def generate_word_dataset(df,presentence = 1,postsentence = 1):\n",
    "    dataset = []\n",
    "    label = []\n",
    "    for index,row in df.iterrows():\n",
    "        if index == 0 or index == len(df)-1:\n",
    "            continue\n",
    "        past = df.iloc[index-1]['Text']\n",
    "        curr = row['Text']\n",
    "        future = df.iloc[index+1]['Text']    \n",
    "        if row['File_id'] != df.iloc[index-1]['File_id']:\n",
    "            past = \"EMPTY\"\n",
    "        if row['File_id'] != df.iloc[index+1]['File_id']:\n",
    "            future = \"EMPTY\"\n",
    "        dataset.append([past,curr,future])\n",
    "        label.append(row['Verdict'])\n",
    "    \n",
    "    return dataset,label\n",
    "\n",
    "data_text, labels = generate_word_dataset(df_full)"
   ]
  },
  {
   "cell_type": "code",
   "execution_count": 11,
   "metadata": {},
   "outputs": [],
   "source": [
    "class PreprocessedData(Dataset):\n",
    "    def __init__(self, pseudolabels = False, num_context = 1):\n",
    "        super().__init__()\n",
    "        self.df = self.extract()\n",
    "        self.sentences, self.labels = self.generate_word_dataset(df=self.df, num_context=num_context, pseudolabels = pseudolabels)\n",
    "\n",
    "    def __len__(self):\n",
    "            return len(self.labels)\n",
    "    \n",
    "    def __getitem__(self, idx):\n",
    "            label = self.labels[idx]\n",
    "            sentences = self.sentences[idx]\n",
    "            sample = {\"Sentences\": sentences, \"Class\": label}\n",
    "            return sample\n",
    "    \n",
    "    def extract(self):\n",
    "        df_groundtruth = pd.read_csv('../ClaimBuster_Datasets/datasets/groundtruth.csv')\n",
    "        df_all_sentences = pd.read_csv('../ClaimBuster_Datasets/datasets/all_sentences.csv')\n",
    "        df_crowdsourced = pd.read_csv('../ClaimBuster_Datasets/datasets/crowdsourced.csv')\n",
    "        df_crwd_grnd = pd.concat([df_groundtruth,df_crowdsourced],axis=0)\n",
    "        sentence_id_with_v = df_crwd_grnd['Sentence_id'].values\n",
    "        df_without_label = df_all_sentences[~((df_all_sentences['Speaker'] == 'Information') | (df_all_sentences['Speaker_title'].isna()) | (df_all_sentences['Sentence_id'].isin(sentence_id_with_v))) ]\n",
    "        df_without_label['Verdict'] = 7 #all non labels have 7 as verdict\n",
    "        df_full = pd.concat([df_crwd_grnd,df_without_label],axis=0)\n",
    "        df_full = df_full.sort_values('Sentence_id')\n",
    "        df_full.reset_index(drop=True,inplace=True)\n",
    "        return df_full\n",
    "    \n",
    "    def generate_word_dataset(self,df,num_context,pseudolabels):\n",
    "        dataset = []\n",
    "        label = []\n",
    "        for index,row in df.iterrows():\n",
    "            if index == 0 or index == len(df)-num_context:\n",
    "                continue\n",
    "            past = df.iloc[index-1]['Text']\n",
    "            curr = row['Text']\n",
    "            future = df.iloc[index+1]['Text']    \n",
    "            if row['File_id'] != df.iloc[index-1]['File_id']:\n",
    "                past = \"EMPTY\"\n",
    "            if row['File_id'] != df.iloc[index+1]['File_id']:\n",
    "                future = \"EMPTY\"\n",
    "            dataset.append([past,curr,future])\n",
    "            label.append(row['Verdict'])\n",
    "        \n",
    "        label = np.array(label)\n",
    "\n",
    "        labelled_indices = np.where(label!=7)[0]\n",
    "        label = label.tolist()\n",
    "\n",
    "        if pseudolabels == False:\n",
    "            dataset = dataset[labelled_indices]\n",
    "            label = label[labelled_indices]\n",
    "\n",
    "        return dataset,label\n",
    "    "
   ]
  }
 ],
 "metadata": {
  "kernelspec": {
   "display_name": "COMP0197-pt",
   "language": "python",
   "name": "python3"
  },
  "language_info": {
   "codemirror_mode": {
    "name": "ipython",
    "version": 3
   },
   "file_extension": ".py",
   "mimetype": "text/x-python",
   "name": "python",
   "nbconvert_exporter": "python",
   "pygments_lexer": "ipython3",
   "version": "3.10.9"
  },
  "orig_nbformat": 4
 },
 "nbformat": 4,
 "nbformat_minor": 2
}
